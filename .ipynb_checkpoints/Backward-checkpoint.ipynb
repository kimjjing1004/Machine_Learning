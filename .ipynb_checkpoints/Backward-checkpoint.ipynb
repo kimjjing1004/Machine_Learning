{
 "cells": [
  {
   "cell_type": "markdown",
   "id": "b569fa5b",
   "metadata": {},
   "source": [
    "### 역전파(back-propagation)\n",
    "- 역전파는 신경망을 학습시킬 때 이용하는 알고리즘\n",
    "- 출력값과 정답의 오차를 네트워크에서 역전파시켜 네트워크의 가중치와 bias를 최적화시킴\n",
    "- 순전파(forward propagation)로 얻은 출력값과 정답과의 오차를 하나씩 층을 거슬러 올라가면서 역방향으로 전파\n",
    "- 이 때 전파시킨 오차에 근거해 각 층의 가중치와 bias의 수정량을 계산\n",
    "- 모든 층의 가중치와 bias를 조금씩 수정\n",
    "- 위 과정을 반복하면 네트워크가 최적화(학습)"
   ]
  },
  {
   "cell_type": "markdown",
   "id": "94f31ecb",
   "metadata": {},
   "source": [
    "### 역전파 이해를 위한 개념\n",
    "- 훈련 데이터, 테스트 데이터\n",
    "- 손실 함수\n",
    "- 경사 하강법\n",
    "- 최적화 알고리즘\n",
    "- 배치"
   ]
  },
  {
   "cell_type": "markdown",
   "id": "a1c31eed",
   "metadata": {},
   "source": [
    "### 훈련 데이터, 테스트 데이터\n",
    "- 훈련 데이터 - 신경망이 학습에 이용되는 데이터\n",
    "- 테스트 데이터 - 학습 결과의 검증에 이용되는 데이터\n",
    "- 각 데이터는 여러 개의 입력값(feature)과 정답으로 구성\n",
    "![nn](media/train_test.png)\n",
    "- 입력값과 정답 한쌍을 샘플이라 칭함\n",
    "- 일반적으로 훈련 데이터의 샘플 수가 테스트 데이터의 샘플 수보다 월등히 많음\n",
    "- 훈련 데이터로 학습이 제대로 된 신경망의 경우, 테스트 데이터에서 좋은 결과가 나옴"
   ]
  },
  {
   "cell_type": "markdown",
   "id": "410302aa",
   "metadata": {},
   "source": [
    "<center>● 회귀문제의 경우 정답은 다음과 같이 여러 개의 값을 가진 백터로 나타냄  </center>\n",
    "<center>[0.23, -1.23, 5.44]</center>\n",
    "\n",
    "![nn](media/regression.png)\n",
    "  \n",
    "<br>\n",
    "<br>\n",
    "\n",
    "<center>● 분류 문제의 경우 다음 처럼 원핫인코딩 형태로 표현  </center>\n",
    "<center>[0, 0, 1]</center>\n",
    "\n",
    "![nn](media/classification.png)"
   ]
  },
  {
   "cell_type": "markdown",
   "id": "e962e523",
   "metadata": {},
   "source": [
    "### 손실 함수(loss function)\n",
    "- 출력값과 정답(target)의 오차를 정의하는 함수\n",
    "1. 평균제곱오차 - MSE(Mean Squared Error)\n",
    "- 주로 회귀문제에 사용\n",
    "![nn](media/mse.png)"
   ]
  },
  {
   "cell_type": "code",
   "execution_count": 1,
   "id": "4d2c88ed",
   "metadata": {},
   "outputs": [],
   "source": [
    "import numpy as np\n",
    "\n",
    "def mean_squared_error(y, t):\n",
    "    return np.sum(np.power(y - t, 2)) / y.shape[0]"
   ]
  },
  {
   "cell_type": "markdown",
   "id": "bcd2bf38",
   "metadata": {},
   "source": [
    "2. 오차제곱합 - SSE(Sum of Squared for Error)\n",
    "- 회귀문제에 주로 사용\n",
    "![nn](media/sse.png)"
   ]
  },
  {
   "cell_type": "code",
   "execution_count": 2,
   "id": "156f5f0a",
   "metadata": {},
   "outputs": [],
   "source": [
    "def square_sum(y, t):\n",
    "    return 1.0/2.0 * np.sum(np.square(y - t))"
   ]
  },
  {
   "cell_type": "markdown",
   "id": "0e25dd03",
   "metadata": {},
   "source": [
    "3. 교차 엔트로피(Cross Entropy)\n",
    "<center>● 분류 문제에 사용</center>\n",
    "\n",
    "![nn](media/cross_entropy_1.png)\n",
    "\n",
    "<br>\n",
    "\n",
    "<center>● 아래의 식으로 변형</center>\n",
    "\n",
    "![nn](media/cross_entropy_2.png)"
   ]
  },
  {
   "cell_type": "markdown",
   "id": "2e75698a",
   "metadata": {},
   "source": [
    "- 분류 문제에서 정답은 1이 하나이고 나머지는 모두  0인 one-hot 인코딩 벡터로 표현\n",
    "- 따라서 우변의 시그마 내부에서 t<sub>k</sub> 가 1인 항의 오차에만 영향을 줌"
   ]
  },
  {
   "cell_type": "markdown",
   "id": "091f9587",
   "metadata": {},
   "source": [
    "- y = -log(x)"
   ]
  },
  {
   "cell_type": "code",
   "execution_count": 3,
   "id": "5e0bec99",
   "metadata": {},
   "outputs": [
    {
     "data": {
      "image/png": "[encoded data removed]",
      "text/plain": [
       "<Figure size 432x288 with 1 Axes>"
      ]
     },
     "metadata": {
      "needs_background": "light"
     },
     "output_type": "display_data"
    }
   ],
   "source": [
    "import matplotlib.pyplot as plt\n",
    "\n",
    "x = np.linspace(start=0.00001, stop=1.0, num=100)\n",
    "plt.plot(x, -np.log(x), 'b-', label='Natural Logarithm(ln)')\n",
    "plt.legend()\n",
    "plt.show()"
   ]
  },
  {
   "cell_type": "markdown",
   "id": "431b4bef",
   "metadata": {},
   "source": [
    "- x가 1일 떄는 0이고, 0에 근접할수록 무한대로 커짐\n",
    "- 즉, 정답에 가까울 수록 전체 오차 값은 작아지며, 반대로 정답에서 멀어질수록 한없이 커짐\n",
    "- 교차 엔트로피의 장점 중 하나는 출력값과 정답의 차이가 클 수록 학습 속도가 빨라짐"
   ]
  },
  {
   "cell_type": "code",
   "execution_count": 4,
   "id": "68349dc0",
   "metadata": {},
   "outputs": [],
   "source": [
    "def cross_entropy(y, t):\n",
    "    return - np.sum(t * np.log(y + 1e-7))"
   ]
  },
  {
   "cell_type": "markdown",
   "id": "968b547f",
   "metadata": {},
   "source": [
    "- log함수의 진수 부분이 0이 되면 무한 발산하여, 계산을 수행할 수 없기에 이를 방지하기 위해 1e-7 을 더했음"
   ]
  },
  {
   "cell_type": "markdown",
   "id": "3490370a",
   "metadata": {},
   "source": [
    "![nn](media/gredient_descent.png)"
   ]
  },
  {
   "cell_type": "markdown",
   "id": "c4da5672",
   "metadata": {},
   "source": [
    "![nn](media/backpropagation.png)"
   ]
  },
  {
   "cell_type": "code",
   "execution_count": null,
   "id": "bfc1764a",
   "metadata": {},
   "outputs": [],
   "source": []
  }
 ],
 "metadata": {
  "kernelspec": {
   "display_name": "Python 3",
   "language": "python",
   "name": "python3"
  },
  "language_info": {
   "codemirror_mode": {
    "name": "ipython",
    "version": 3
   },
   "file_extension": ".py",
   "mimetype": "text/x-python",
   "name": "python",
   "nbconvert_exporter": "python",
   "pygments_lexer": "ipython3",
   "version": "3.7.10"
  }
 },
 "nbformat": 4,
 "nbformat_minor": 5
}
