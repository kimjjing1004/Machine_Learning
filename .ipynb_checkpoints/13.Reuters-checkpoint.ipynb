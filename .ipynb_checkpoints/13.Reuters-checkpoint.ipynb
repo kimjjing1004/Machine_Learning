{
 "cells": [
  {
   "cell_type": "code",
   "execution_count": 1,
   "id": "58b60626",
   "metadata": {},
   "outputs": [],
   "source": [
    "import numpy as np\n",
    "import tensorflow as tf\n",
    "import matplotlib.pyplot as plt\n",
    "\n",
    "# 로이터 뉴스 데이터셋 불러오기\n",
    "from tensorflow.keras.datasets import reuters\n",
    "from tensorflow.keras.models import Sequential\n",
    "from tensorflow.keras.layers import Dense, LSTM, Embedding\n",
    "from tensorflow.keras.preprocessing import sequence\n",
    "from tensorflow.keras.utils import to_categorical"
   ]
  },
  {
   "cell_type": "code",
   "execution_count": 2,
   "id": "7fe00536",
   "metadata": {},
   "outputs": [
    {
     "name": "stderr",
     "output_type": "stream",
     "text": [
      "C:\\Users\\BIT_R33\\anaconda3\\envs\\tensorflow-env\\lib\\site-packages\\tensorflow\\python\\keras\\datasets\\reuters.py:148: VisibleDeprecationWarning: Creating an ndarray from ragged nested sequences (which is a list-or-tuple of lists-or-tuples-or ndarrays with different lengths or shapes) is deprecated. If you meant to do this, you must specify 'dtype=object' when creating the ndarray\n",
      "  x_train, y_train = np.array(xs[:idx]), np.array(labels[:idx])\n",
      "C:\\Users\\BIT_R33\\anaconda3\\envs\\tensorflow-env\\lib\\site-packages\\tensorflow\\python\\keras\\datasets\\reuters.py:149: VisibleDeprecationWarning: Creating an ndarray from ragged nested sequences (which is a list-or-tuple of lists-or-tuples-or ndarrays with different lengths or shapes) is deprecated. If you meant to do this, you must specify 'dtype=object' when creating the ndarray\n",
      "  x_test, y_test = np.array(xs[idx:]), np.array(labels[idx:])\n"
     ]
    }
   ],
   "source": [
    "# 불러온 데이터를 학습셋과 테스트셋으로 나누기\n",
    "(X_train, Y_train), (X_test, Y_test) = reuters.load_data(num_words=1000, test_split=0.2)"
   ]
  },
  {
   "cell_type": "code",
   "execution_count": 3,
   "id": "8e2f18a0",
   "metadata": {},
   "outputs": [
    {
     "name": "stdout",
     "output_type": "stream",
     "text": [
      "46 카테고리\n",
      "8982 학습용 뉴스 기사\n",
      "2246 테스트용 뉴스 기사\n",
      "[1, 2, 2, 8, 43, 10, 447, 5, 25, 207, 270, 5, 2, 111, 16, 369, 186, 90, 67, 7, 89, 5, 19, 102, 6, 19, 124, 15, 90, 67, 84, 22, 482, 26, 7, 48, 4, 49, 8, 864, 39, 209, 154, 6, 151, 6, 83, 11, 15, 22, 155, 11, 15, 7, 48, 9, 2, 2, 504, 6, 258, 6, 272, 11, 15, 22, 134, 44, 11, 15, 16, 8, 197, 2, 90, 67, 52, 29, 209, 30, 32, 132, 6, 109, 15, 17, 12]\n"
     ]
    }
   ],
   "source": [
    "# 데이터 확인 후 출력\n",
    "category = np.max(Y_train) + 1\n",
    "print(category, '카테고리')\n",
    "print(len(X_train), '학습용 뉴스 기사')\n",
    "print(len(X_test), '테스트용 뉴스 기사')\n",
    "print(X_train[0])"
   ]
  },
  {
   "cell_type": "code",
   "execution_count": 4,
   "id": "68fa042d",
   "metadata": {},
   "outputs": [],
   "source": [
    "# 데이터 전처리\n",
    "x_train = sequence.pad_sequences(X_train, maxlen=100)\n",
    "x_test = sequence.pad_sequences(X_test, maxlen=100)\n",
    "y_train = to_categorical(Y_train)\n",
    "y_test = to_categorical(Y_test)"
   ]
  },
  {
   "cell_type": "code",
   "execution_count": 5,
   "id": "d7361b60",
   "metadata": {},
   "outputs": [
    {
     "name": "stdout",
     "output_type": "stream",
     "text": [
      "3\n"
     ]
    }
   ],
   "source": [
    "print(Y_train[0])"
   ]
  },
  {
   "cell_type": "code",
   "execution_count": 6,
   "id": "3a94f9cc",
   "metadata": {},
   "outputs": [],
   "source": [
    "model = Sequential()\n",
    "model.add(Embedding(1000, 100))\n",
    "model.add(LSTM(100, activation='tanh'))\n",
    "model.add(Dense(46, activation='softmax'))"
   ]
  },
  {
   "cell_type": "code",
   "execution_count": 7,
   "id": "a207a65d",
   "metadata": {},
   "outputs": [
    {
     "name": "stdout",
     "output_type": "stream",
     "text": [
      "Model: \"sequential\"\n",
      "_________________________________________________________________\n",
      "Layer (type)                 Output Shape              Param #   \n",
      "=================================================================\n",
      "embedding (Embedding)        (None, None, 100)         100000    \n",
      "_________________________________________________________________\n",
      "lstm (LSTM)                  (None, 100)               80400     \n",
      "_________________________________________________________________\n",
      "dense (Dense)                (None, 46)                4646      \n",
      "=================================================================\n",
      "Total params: 185,046\n",
      "Trainable params: 185,046\n",
      "Non-trainable params: 0\n",
      "_________________________________________________________________\n"
     ]
    }
   ],
   "source": [
    "model.summary()"
   ]
  },
  {
   "cell_type": "code",
   "execution_count": 8,
   "id": "df57fff3",
   "metadata": {},
   "outputs": [],
   "source": [
    "# 모델의 컴파일\n",
    "model.compile(loss='categorical_crossentropy', optimizer='adam', metrics=['accuracy'])"
   ]
  },
  {
   "cell_type": "code",
   "execution_count": 9,
   "id": "a9bda0dd",
   "metadata": {},
   "outputs": [
    {
     "name": "stdout",
     "output_type": "stream",
     "text": [
      "Epoch 1/20\n",
      "90/90 [==============================] - 10s 110ms/step - loss: 2.6004 - accuracy: 0.3431 - val_loss: 2.3803 - val_accuracy: 0.3695\n",
      "Epoch 2/20\n",
      "90/90 [==============================] - 9s 101ms/step - loss: 2.1121 - accuracy: 0.4771 - val_loss: 2.0281 - val_accuracy: 0.5013\n",
      "Epoch 3/20\n",
      "90/90 [==============================] - 9s 100ms/step - loss: 2.0519 - accuracy: 0.4944 - val_loss: 1.8745 - val_accuracy: 0.5432\n",
      "Epoch 4/20\n",
      "90/90 [==============================] - 9s 100ms/step - loss: 1.7706 - accuracy: 0.5570 - val_loss: 1.7154 - val_accuracy: 0.5632\n",
      "Epoch 5/20\n",
      "90/90 [==============================] - 9s 100ms/step - loss: 1.6536 - accuracy: 0.5767 - val_loss: 1.6530 - val_accuracy: 0.5819\n",
      "Epoch 6/20\n",
      "90/90 [==============================] - 9s 100ms/step - loss: 1.5662 - accuracy: 0.5991 - val_loss: 1.6324 - val_accuracy: 0.5962\n",
      "Epoch 7/20\n",
      "90/90 [==============================] - 9s 101ms/step - loss: 1.4983 - accuracy: 0.6181 - val_loss: 1.5273 - val_accuracy: 0.6180\n",
      "Epoch 8/20\n",
      "90/90 [==============================] - 9s 100ms/step - loss: 1.4060 - accuracy: 0.6460 - val_loss: 1.4859 - val_accuracy: 0.6278\n",
      "Epoch 9/20\n",
      "90/90 [==============================] - 9s 100ms/step - loss: 1.3049 - accuracy: 0.6733 - val_loss: 1.4003 - val_accuracy: 0.6478\n",
      "Epoch 10/20\n",
      "90/90 [==============================] - 9s 100ms/step - loss: 1.2457 - accuracy: 0.6876 - val_loss: 1.3535 - val_accuracy: 0.6603\n",
      "Epoch 11/20\n",
      "90/90 [==============================] - 9s 100ms/step - loss: 1.1801 - accuracy: 0.7032 - val_loss: 1.3185 - val_accuracy: 0.6634\n",
      "Epoch 12/20\n",
      "90/90 [==============================] - 9s 99ms/step - loss: 1.1155 - accuracy: 0.7207 - val_loss: 1.2677 - val_accuracy: 0.6830\n",
      "Epoch 13/20\n",
      "90/90 [==============================] - 9s 100ms/step - loss: 1.0759 - accuracy: 0.7283 - val_loss: 1.2511 - val_accuracy: 0.6843\n",
      "Epoch 14/20\n",
      "90/90 [==============================] - 9s 100ms/step - loss: 1.0129 - accuracy: 0.7424 - val_loss: 1.2433 - val_accuracy: 0.6892\n",
      "Epoch 15/20\n",
      "90/90 [==============================] - 9s 100ms/step - loss: 0.9808 - accuracy: 0.7516 - val_loss: 1.2058 - val_accuracy: 0.6986\n",
      "Epoch 16/20\n",
      "90/90 [==============================] - 9s 100ms/step - loss: 0.9370 - accuracy: 0.7637 - val_loss: 1.2465 - val_accuracy: 0.6906\n",
      "Epoch 17/20\n",
      "90/90 [==============================] - 9s 99ms/step - loss: 0.8976 - accuracy: 0.7763 - val_loss: 1.2070 - val_accuracy: 0.6990\n",
      "Epoch 18/20\n",
      "90/90 [==============================] - 9s 100ms/step - loss: 0.8571 - accuracy: 0.7860 - val_loss: 1.1816 - val_accuracy: 0.7079\n",
      "Epoch 19/20\n",
      "90/90 [==============================] - 9s 100ms/step - loss: 0.8261 - accuracy: 0.7943 - val_loss: 1.2067 - val_accuracy: 0.7004\n",
      "Epoch 20/20\n",
      "90/90 [==============================] - 9s 100ms/step - loss: 0.7858 - accuracy: 0.8047 - val_loss: 1.1912 - val_accuracy: 0.7097\n"
     ]
    }
   ],
   "source": [
    "# 모델의 실행\n",
    "history = model.fit(x_train, y_train, batch_size=100, epochs=20, validation_data=(x_test, y_test))"
   ]
  },
  {
   "cell_type": "code",
   "execution_count": 10,
   "id": "93da1261",
   "metadata": {},
   "outputs": [
    {
     "name": "stdout",
     "output_type": "stream",
     "text": [
      "71/71 [==============================] - 1s 17ms/step - loss: 1.1912 - accuracy: 0.7097\n",
      "\n",
      " Test Accuracy: 0.7097\n"
     ]
    }
   ],
   "source": [
    "# 테스트 정확도 출력\n",
    "print(\"\\n Test Accuracy: %.4f\" % (model.evaluate(x_test, y_test)[1]))"
   ]
  },
  {
   "cell_type": "code",
   "execution_count": 11,
   "id": "2e13d623",
   "metadata": {},
   "outputs": [],
   "source": [
    "y_vloss = history.history['val_loss'] # test\n",
    "y_loss = history.history['loss'] # train"
   ]
  },
  {
   "cell_type": "code",
   "execution_count": 13,
   "id": "0e473a0e",
   "metadata": {},
   "outputs": [
    {
     "data": {
      "image/png": "[encoded data removed]",
      "text/plain": [
       "<Figure size 640x480 with 1 Axes>"
      ]
     },
     "metadata": {},
     "output_type": "display_data"
    }
   ],
   "source": [
    "x_len = np.arange(len(y_loss))\n",
    "plt.plot(x_len, y_vloss, marker='.', c=\"red\", label='Testset_loss')\n",
    "plt.plot(x_len, y_loss, marker='.', c=\"blue\", label='Trainset_loss')\n",
    "plt.legend(loc='upper right')\n",
    "plt.grid()\n",
    "plt.xlabel('epoch')\n",
    "plt.ylabel('loss')\n",
    "plt.show()"
   ]
  },
  {
   "cell_type": "code",
   "execution_count": null,
   "id": "2f1f1f61",
   "metadata": {},
   "outputs": [],
   "source": []
  }
 ],
 "metadata": {
  "kernelspec": {
   "display_name": "Python 3",
   "language": "python",
   "name": "python3"
  },
  "language_info": {
   "codemirror_mode": {
    "name": "ipython",
    "version": 3
   },
   "file_extension": ".py",
   "mimetype": "text/x-python",
   "name": "python",
   "nbconvert_exporter": "python",
   "pygments_lexer": "ipython3",
   "version": "3.8.11"
  }
 },
 "nbformat": 4,
 "nbformat_minor": 5
}
